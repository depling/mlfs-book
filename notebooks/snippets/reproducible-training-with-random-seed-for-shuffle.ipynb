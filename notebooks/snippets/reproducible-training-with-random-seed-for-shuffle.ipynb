{
 "cells": [
  {
   "cell_type": "code",
   "execution_count": 1,
   "id": "c2ee2fd9-2fb5-40e7-ad66-a7425fe4510f",
   "metadata": {},
   "outputs": [
    {
     "name": "stdout",
     "output_type": "stream",
     "text": [
      "Epoch 1/5, Loss: 5.0556\n",
      "Epoch 2/5, Loss: 4.9304\n",
      "Epoch 3/5, Loss: 4.8711\n",
      "Epoch 4/5, Loss: 4.7943\n",
      "Epoch 5/5, Loss: 4.7700\n"
     ]
    }
   ],
   "source": [
    "import torch\n",
    "import torch.nn as nn\n",
    "import torch.optim as optim\n",
    "from torch.utils.data import DataLoader, TensorDataset, RandomSampler\n",
    "\n",
    "# Set random seed for reproducibility\n",
    "def set_seed(seed=42):\n",
    "    torch.manual_seed(seed)\n",
    "    torch.cuda.manual_seed_all(seed)\n",
    "\n",
    "# Example dataset\n",
    "X = torch.randn(100, 10)  # 100 samples, 10 features\n",
    "y = torch.randint(0, 2, (100,))  # 100 binary labels\n",
    "\n",
    "# Create a dataset and data loader with shuffling enabled\n",
    "dataset = TensorDataset(X, y)\n",
    "\n",
    "# Function to train with deterministic shuffling\n",
    "def train_model(seed=42, num_epochs=5):\n",
    "    set_seed(seed)\n",
    "\n",
    "    # Define a simple model\n",
    "    model = nn.Sequential(\n",
    "        nn.Linear(10, 50),\n",
    "        nn.ReLU(),\n",
    "        nn.Linear(50, 2)\n",
    "    )\n",
    "\n",
    "    criterion = nn.CrossEntropyLoss()\n",
    "    optimizer = optim.Adam(model.parameters(), lr=0.001)\n",
    "\n",
    "    for epoch in range(num_epochs):\n",
    "        set_seed(seed + epoch)  # Ensure deterministic shuffle per epoch\n",
    "\n",
    "        # Use RandomSampler to shuffle data deterministically\n",
    "        sampler = RandomSampler(dataset, generator=torch.Generator().manual_seed(seed + epoch))\n",
    "        dataloader = DataLoader(dataset, batch_size=16, sampler=sampler)\n",
    "\n",
    "        epoch_loss = 0\n",
    "        for batch_X, batch_y in dataloader:\n",
    "            optimizer.zero_grad()\n",
    "            outputs = model(batch_X)\n",
    "            loss = criterion(outputs, batch_y)\n",
    "            loss.backward()\n",
    "            optimizer.step()\n",
    "            epoch_loss += loss.item()\n",
    "\n",
    "        print(f\"Epoch {epoch+1}/{num_epochs}, Loss: {epoch_loss:.4f}\")\n",
    "\n",
    "# Train the model with deterministic shuffling\n",
    "train_model()\n"
   ]
  },
  {
   "cell_type": "code",
   "execution_count": null,
   "id": "260f34f6-79d9-4570-b71a-88b98f8fbdb0",
   "metadata": {},
   "outputs": [],
   "source": []
  }
 ],
 "metadata": {
  "kernelspec": {
   "display_name": "Python 3 (ipykernel)",
   "language": "python",
   "name": "python3"
  },
  "language_info": {
   "codemirror_mode": {
    "name": "ipython",
    "version": 3
   },
   "file_extension": ".py",
   "mimetype": "text/x-python",
   "name": "python",
   "nbconvert_exporter": "python",
   "pygments_lexer": "ipython3",
   "version": "3.10.0"
  }
 },
 "nbformat": 4,
 "nbformat_minor": 5
}
